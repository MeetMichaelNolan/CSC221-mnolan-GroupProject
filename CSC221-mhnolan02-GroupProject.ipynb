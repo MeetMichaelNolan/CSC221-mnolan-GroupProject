{
 "cells": [
  {
   "cell_type": "code",
   "execution_count": null,
   "id": "0bb6c94c",
   "metadata": {},
   "outputs": [],
   "source": [
    "# IMPORTING LIBRARIES\n",
    "import requests\n",
    "from bs4 import BeautifulSoup\n",
    "import pandas as pd\n",
    "\n",
    "# WEBSITE'S URL \n",
    "url = \"https://en.wikipedia.org/wiki/2023_Major_League_Baseball_season\"\n",
    "page = requests.get(url)\n",
    "soup = BeautifulSoup(page.content, \"html.parser\")\n",
    "\n",
    "my_table = soup.find(class_ =['multicol', 'wikitable'])\n",
    "links = my_table.findAll('a')\n",
    "\n",
    "teams = []\n",
    "for link in links:\n",
    "    x = str(link.get('title'))\n",
    "    if 'season' in x:\n",
    "        teams.append(x[5:-7])\n",
    "\n",
    "df = pd.DataFrame()\n",
    "df['MLB Teams'] = teams\n",
    "\n",
    "df\n",
    "df.to_csv('CSC221-webscrape-data.csv')"
   ]
  },
  {
   "cell_type": "code",
   "execution_count": null,
   "id": "48285ca4",
   "metadata": {},
   "outputs": [],
   "source": []
  },
  {
   "cell_type": "code",
   "execution_count": null,
   "id": "99b6f84b",
   "metadata": {},
   "outputs": [],
   "source": []
  }
 ],
 "metadata": {
  "kernelspec": {
   "display_name": "Python 3 (ipykernel)",
   "language": "python",
   "name": "python3"
  },
  "language_info": {
   "codemirror_mode": {
    "name": "ipython",
    "version": 3
   },
   "file_extension": ".py",
   "mimetype": "text/x-python",
   "name": "python",
   "nbconvert_exporter": "python",
   "pygments_lexer": "ipython3",
   "version": "3.10.9"
  }
 },
 "nbformat": 4,
 "nbformat_minor": 5
}
